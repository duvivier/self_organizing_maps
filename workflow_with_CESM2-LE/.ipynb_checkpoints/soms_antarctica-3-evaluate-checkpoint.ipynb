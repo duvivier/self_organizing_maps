{
 "cells": [
  {
   "cell_type": "markdown",
   "id": "42ace6c8-30b6-42f3-aec2-4ef54f286d2d",
   "metadata": {},
   "source": [
    "# Self-Organizing Maps (SOMs) Notebook\n",
    "## Finding \"winning\" SOMs - Step 3\n",
    "\n",
    "**Notebook by Maria J. Molina (NCAR) and Alice DuVivier (NCAR).**\n",
    "\n",
    "**Still very much in progress**"
   ]
  },
  {
   "cell_type": "markdown",
   "id": "0b68b9d3-aa1e-4144-bd7e-44ad450d7746",
   "metadata": {},
   "source": [
    "This Notebook reads in the CSV file output by the training step to find the winning SOMs."
   ]
  },
  {
   "cell_type": "code",
   "execution_count": null,
   "id": "d6d6f95a-6036-4b9a-bca7-90b40b17c3d0",
   "metadata": {},
   "outputs": [],
   "source": [
    "import pandas as pd\n",
    "from minisom import MiniSom, asymptotic_decay\n",
    "import xarray as xr\n",
    "import cftime\n",
    "import numpy as np\n",
    "import pandas as pd\n",
    "import matplotlib.pyplot as plt\n",
    "from itertools import product\n",
    "import cartopy\n",
    "import cartopy.crs as ccrs\n",
    "from cartopy.util import add_cyclic_point\n",
    "from datetime import timedelta\n",
    "from itertools import product\n",
    "import seaborn as sns\n",
    "import pickle\n",
    "import sammon"
   ]
  },
  {
   "cell_type": "markdown",
   "id": "b4933c53-68c8-402a-a582-947196e42840",
   "metadata": {},
   "source": [
    "### Set User-specified information"
   ]
  },
  {
   "cell_type": "code",
   "execution_count": null,
   "id": "b877d3d4-04be-4352-928a-27dc4987c484",
   "metadata": {},
   "outputs": [],
   "source": [
    "# set: variable to test, the location of the already extracted training data\n",
    "var_in = 'aice_d'\n",
    "sector_short = 'Ross'\n",
    "data_path = '/glade/p/cgd/ppc/duvivier/cesm2_antarctic_polynya/SOM_analysis/training/'+sector_short+'_v5/'"
   ]
  },
  {
   "cell_type": "code",
   "execution_count": null,
   "id": "f6b4346a-19b9-4295-a0ca-dc5dccaa610b",
   "metadata": {},
   "outputs": [],
   "source": [
    "# set possible grid sizes. These are paired values.\n",
    "som_grid_rows    = [3, 4, 5]    # (y-axis)\n",
    "som_grid_cols    = [3, 4, 5]    # (x-axis)"
   ]
  },
  {
   "cell_type": "code",
   "execution_count": null,
   "id": "26983fd3-8ef8-4d43-a608-c81ec0f1116b",
   "metadata": {},
   "outputs": [],
   "source": [
    "# MANUAL CHANGING REQUIRED HERE\n",
    "n = 0\n",
    "# n = 0-2 (matches sizes set above)\n",
    "\n",
    "som_row = som_grid_rows[n]\n",
    "som_col = som_grid_cols[n]"
   ]
  },
  {
   "cell_type": "markdown",
   "id": "0e01c9e3-a9d8-41d2-82ad-9e4f95bde5b2",
   "metadata": {},
   "source": [
    "## Load training data\n"
   ]
  },
  {
   "cell_type": "code",
   "execution_count": null,
   "id": "153131c5-9892-48e2-b35a-7656ebaf472d",
   "metadata": {},
   "outputs": [],
   "source": [
    "# open file saved in earlier notebook (soms_antarctica-gettingdata.ipynb)\n",
    "subset = xr.open_dataset(data_path+'training_data_region_'+sector_short+'_'+var_in+'.nc')\n",
    "\n",
    "# assign to numpy array object\n",
    "subsetarray = subset['train_data'].values"
   ]
  },
  {
   "cell_type": "code",
   "execution_count": null,
   "id": "c5738c57-1f80-487e-9552-410057ef0fd1",
   "metadata": {},
   "outputs": [],
   "source": [
    "# check the data dims/shape - should match the dims from the getting data notebook\n",
    "print(subsetarray.shape)\n",
    "# confirm there are no NaN values in array for training (should print False if no values)\n",
    "print(np.isnan(subsetarray).any())"
   ]
  },
  {
   "cell_type": "markdown",
   "id": "e8df4f51-adad-41a4-abd0-91be041a5641",
   "metadata": {},
   "source": [
    "## Load CSV with winning combos"
   ]
  },
  {
   "cell_type": "code",
   "execution_count": null,
   "id": "2b7e73e4-6194-4da9-bfeb-5fb329decac2",
   "metadata": {},
   "outputs": [],
   "source": [
    "# read in the file with all the possible soms\n",
    "df = pd.read_csv(data_path+'test_soms_qerror_'+sector_short+'_'+var_in+'_'+str(som_row)+'x'+str(som_col)+'.csv')"
   ]
  },
  {
   "cell_type": "code",
   "execution_count": null,
   "id": "7d1e4d18-0586-4a1f-b741-5eaab6bc4a48",
   "metadata": {},
   "outputs": [],
   "source": [
    "# sort values by q_error\n",
    "sorted_df = df.sort_values(['q_error'])\n",
    "\n",
    "# find and save the lowest qerror for top # (10)\n",
    "top_n = sorted_df.head(20)\n",
    "bottom_n = sorted_df.tail(20)\n",
    "#print(top_n)"
   ]
  },
  {
   "cell_type": "code",
   "execution_count": null,
   "id": "44a5a6a0-bda9-4582-af31-f16445b348eb",
   "metadata": {},
   "outputs": [],
   "source": [
    "# grab the qerrors and make array against which to plot\n",
    "qerr_all = sorted_df.q_error\n",
    "xarr_all = np.arange(1,len(qerr_all)+1,1)\n",
    "qerr_n = top_n.q_error\n",
    "xarr_n = np.arange(1,len(qerr_n)+1,1)"
   ]
  },
  {
   "cell_type": "code",
   "execution_count": null,
   "id": "5317e8be-6348-4daf-b876-c44f69cca066",
   "metadata": {},
   "outputs": [],
   "source": [
    "print('Plotting qerror for som: '+str(som_row)+'x'+str(som_col))\n",
    "\n",
    "# set output name\n",
    "fout = data_path+'som_evaluation/qerror_plot_'+sector_short+'_'+var_in+'_'+str(som_row)+'x'+str(som_col)+'.png'\n",
    "label_in = 'qerror for SOM size '+str(som_row)+'x'+str(som_col)\n",
    "\n",
    "# Actually plot figure now\n",
    "fig = plt.figure(figsize=(20,15))\n",
    "\n",
    "# plot all SOM qerror\n",
    "ax = fig.add_subplot(2,1,1)\n",
    "ax.scatter(xarr_all,qerr_all,marker='x',c='black')\n",
    "plt.title('all qerror',fontsize=15)\n",
    "plt.xlabel('ranking',fontsize=15)\n",
    "plt.ylabel('qerror',fontsize=15)\n",
    "\n",
    "# plot lowest n SOM qerror\n",
    "ax = fig.add_subplot(2,1,2)\n",
    "ax.scatter(xarr_n,qerr_n,marker='x',c='black')\n",
    "plt.title('lowest',fontsize=15)\n",
    "plt.xlabel('ranking',fontsize=15)\n",
    "plt.ylabel('qerror',fontsize=15)\n",
    "\n",
    "# Finalize figure and save\n",
    "fig.suptitle(label_in,fontsize=20, y=0.95)  \n",
    "fig.subplots_adjust(hspace=0.3)\n",
    "\n",
    "# save figure:\n",
    "fig = plt.savefig(fout, bbox_inches='tight', dpi=200)"
   ]
  },
  {
   "cell_type": "markdown",
   "id": "a47230a3-028c-493b-b568-13af93fbc2dd",
   "metadata": {},
   "source": [
    "## SOM training for winning combos"
   ]
  },
  {
   "cell_type": "code",
   "execution_count": null,
   "id": "31cf8478-839a-4d35-bc4e-18aa8a278249",
   "metadata": {},
   "outputs": [],
   "source": [
    "def normalize_data(data):\n",
    "    \"\"\"\n",
    "    Function for normalizing data prior to training using z-score\n",
    "    \"\"\"\n",
    "    return (data - np.nanmean(data)) / np.nanstd(data)"
   ]
  },
  {
   "cell_type": "code",
   "execution_count": null,
   "id": "f2eed05e-482c-4464-a864-f29523804754",
   "metadata": {},
   "outputs": [],
   "source": [
    "# SOM hyperparameters - common to all\n",
    "input_length = subsetarray.shape[1]    # using preprocessed data array; Number of the elements of the vectors in input.\n",
    "decay_function = asymptotic_decay\n",
    "neighborhood_function = 'gaussian'\n",
    "topology = 'rectangular'                 # Topology of the map; Possible values: 'rectangular', 'hexagonal'\n",
    "activation_distance = 'euclidean'        # Distance used to activate the map; Possible values: 'euclidean', 'cosine', 'manhattan', 'chebyshev'\n",
    "random_seed = 1                          # Random seed to use for reproducibility. Using 1.\n",
    "data = normalize_data(subsetarray)\n",
    "random_order = True\n",
    "verbose = True"
   ]
  },
  {
   "cell_type": "code",
   "execution_count": null,
   "id": "ad0f1a3a-33e8-4025-a2e8-08f6b80e0763",
   "metadata": {},
   "outputs": [],
   "source": [
    "# Loop through the lowest values, retrain SOM and save as pickles\n",
    "\n",
    "for n in xarr_n:\n",
    "    print(str(n)+'th lowest qerror')\n",
    "    \n",
    "    # set the training values\n",
    "    qerr = top_n.iloc[n-1]['q_error'].item()\n",
    "    sig = top_n.iloc[n-1]['sigma'].item()\n",
    "    lr = top_n.iloc[n-1]['lr'].item()\n",
    "    n_iter = int(top_n.iloc[n-1]['n_iter'].item())\n",
    "    \n",
    "    print('original qerr = '+str(qerr))\n",
    "    # initialization of SOM\n",
    "    som = MiniSom(\n",
    "            som_row,\n",
    "            som_col,\n",
    "            input_length,\n",
    "            sig,\n",
    "            lr,\n",
    "            decay_function,\n",
    "            neighborhood_function,\n",
    "            topology,\n",
    "            activation_distance,\n",
    "            random_seed) \n",
    "    # before training, initialize the data\n",
    "    som.pca_weights_init(data) \n",
    "    # actually train SOM - the quantization error here should match qerr printed above\n",
    "    som.train(\n",
    "        data,\n",
    "        n_iter,\n",
    "        random_order,\n",
    "        verbose)\n",
    "    \n",
    "    # save the som as a pickle to analyze later\n",
    "    fout = 'som_'+sector_short+'_'+var_in+'_'+str(som_row)+'x'+str(som_col)+'_rank_'+str(n)+'_sig'+str(sig)+'_lr'+str(lr)+'_iter'+str(n_iter)\n",
    "    with open(data_path+'pickles/'+fout+'.p', 'wb') as outfile:\n",
    "        pickle.dump(som, outfile)\n",
    "    "
   ]
  },
  {
   "cell_type": "markdown",
   "id": "cffe00f5-ded8-4093-a14d-3432f5475513",
   "metadata": {},
   "source": [
    "## Plot Sammon maps"
   ]
  },
  {
   "cell_type": "code",
   "execution_count": null,
   "id": "352ae18b-05cf-4eb3-8b68-5450e22f9ee8",
   "metadata": {},
   "outputs": [],
   "source": [
    "# Loop through the lowest values and load in the relevant pickle\n",
    "\n",
    "for n in xarr_n:\n",
    "    print(str(n)+'th lowest qerror')\n",
    "    \n",
    "    # set the training values\n",
    "    qerr = top_n.iloc[n-1]['q_error'].item()\n",
    "    sig = top_n.iloc[n-1]['sigma'].item()\n",
    "    lr = top_n.iloc[n-1]['lr'].item()\n",
    "    n_iter = int(top_n.iloc[n-1]['n_iter'].item())\n",
    "    \n",
    "    # construct the input name from this, set as output for figure names\n",
    "    fin = 'som_'+sector_short+'_'+var_in+'_'+str(som_row)+'x'+str(som_col)+'_rank_'+str(n)+'_sig'+str(sig)+'_lr'+str(lr)+'_iter'+str(n_iter)\n",
    "\n",
    "    # open pickle\n",
    "    with open(data_path+'/pickles/'+fin+'.p', 'rb') as infile:\n",
    "        som = pickle.load(infile)\n",
    "\n",
    "    # Calculate sammon coordinates (y) for map and \"map stress\" (E)\n",
    "    [y,E] = sammon.sammon(som.get_weights().reshape(som_col*som_row, input_length),2,display=1)\n",
    "\n",
    "    # Plot Sammon map nodes\n",
    "    fig = plt.figure(figsize=(10,8))\n",
    "    plt.scatter(y[:,0], y[:,1], s=20, c='black', marker='o')\n",
    "\n",
    "    # Add lines between nodes\n",
    "    tmp = np.reshape(y,(som_col,som_row,2))\n",
    "    len_x, len_y, len_z = tmp.shape\n",
    "    \n",
    "    # add vertical lines\n",
    "    for i in range(len_x-1):\n",
    "        for j in range(len_y):\n",
    "            plt.plot(tmp[i:i+2,j,0],tmp[i:i+2,j,1],c='black')\n",
    "    \n",
    "    # add horizontal lines\n",
    "    for i in range(len_x):\n",
    "        for j in range(len_y-1):\n",
    "            plt.plot(tmp[i,j:j+2,0],tmp[i,j:j+2,1],c='black')  \n",
    "    \n",
    "    plt.xticks([])\n",
    "    plt.yticks([])\n",
    "    plt.title(r\"sammon map\" \"\\n\" r\"map stress = \"+str(E), fontsize=12)\n",
    "    \n",
    "    # save figure\n",
    "    fout = data_path+'som_evaluation/'+fin+'_sammon.png'\n",
    "    plt.savefig(fout, bbox_inches='tight', dpi=200)\n"
   ]
  },
  {
   "cell_type": "code",
   "execution_count": null,
   "id": "8e61384f-f454-4415-942b-efaf07448de3",
   "metadata": {},
   "outputs": [],
   "source": []
  }
 ],
 "metadata": {
  "kernelspec": {
   "display_name": "Python [conda env:miniconda3-antarctica_som_env]",
   "language": "python",
   "name": "conda-env-miniconda3-antarctica_som_env-py"
  },
  "language_info": {
   "codemirror_mode": {
    "name": "ipython",
    "version": 3
   },
   "file_extension": ".py",
   "mimetype": "text/x-python",
   "name": "python",
   "nbconvert_exporter": "python",
   "pygments_lexer": "ipython3",
   "version": "3.7.10"
  }
 },
 "nbformat": 4,
 "nbformat_minor": 5
}
