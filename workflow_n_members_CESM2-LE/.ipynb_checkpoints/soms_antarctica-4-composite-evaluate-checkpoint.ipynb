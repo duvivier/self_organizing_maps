{
 "cells": [
  {
   "cell_type": "markdown",
   "id": "42ace6c8-30b6-42f3-aec2-4ef54f286d2d",
   "metadata": {},
   "source": [
    "# Self-Organizing Maps (SOMs) Notebook\n",
    "## Load \"winning\" SOMs - Step 4\n",
    "\n",
    "**Notebook by Maria J. Molina (NCAR) and Alice DuVivier (NCAR).**\n",
    "\n",
    "**Still very much in progress**"
   ]
  },
  {
   "cell_type": "markdown",
   "id": "0b68b9d3-aa1e-4144-bd7e-44ad450d7746",
   "metadata": {},
   "source": [
    "This Notebook reads in the pickle files saved as possible \"winning\" SOMs and identified in the previous step."
   ]
  },
  {
   "cell_type": "code",
   "execution_count": null,
   "id": "d6d6f95a-6036-4b9a-bca7-90b40b17c3d0",
   "metadata": {},
   "outputs": [],
   "source": [
    "import pandas as pd\n",
    "from minisom import MiniSom, asymptotic_decay\n",
    "import xarray as xr\n",
    "import cftime\n",
    "import numpy as np\n",
    "import pandas as pd\n",
    "import matplotlib.pyplot as plt\n",
    "from itertools import product\n",
    "import cartopy\n",
    "import cartopy.crs as ccrs\n",
    "from cartopy.util import add_cyclic_point\n",
    "from datetime import timedelta\n",
    "from itertools import product\n",
    "import seaborn as sns\n",
    "import pickle\n",
    "import sammon\n",
    "import dask"
   ]
  },
  {
   "cell_type": "markdown",
   "id": "b4933c53-68c8-402a-a582-947196e42840",
   "metadata": {},
   "source": [
    "### Set User-specified information"
   ]
  },
  {
   "cell_type": "code",
   "execution_count": null,
   "id": "5ae491f5-f4f5-4677-a021-8c93ed8b948c",
   "metadata": {},
   "outputs": [],
   "source": [
    "# set paired values for possible winning maps based on Sammon maps\n",
    "vars_in          = ['aice_d', 'aice_d']  # training dataset\n",
    "som_grid_rows    = [3, 3]    # (y-axis)\n",
    "som_grid_cols    = [3, 3]    # (x-axis)\n",
    "sigs             = [1.0, 1.0]\n",
    "lrs              = [0.005, 0.005]\n",
    "nitrs            = [1000000, 100000]\n",
    "ranks            = [6, 9]"
   ]
  },
  {
   "cell_type": "code",
   "execution_count": null,
   "id": "5e204396-fd17-418e-8b22-0fd6f9ae2e7b",
   "metadata": {},
   "outputs": [],
   "source": [
    "# MANUAL CHANGING REQUIRED HERE\n",
    "n = 1\n",
    "# n = 0-1 (matches sizes set above)\n",
    "\n",
    "var_in = vars_in[n]\n",
    "som_row = som_grid_rows[n]\n",
    "som_col = som_grid_cols[n]\n",
    "sig = sigs[n]\n",
    "lr = lrs[n]\n",
    "n_iter = nitrs[n]\n",
    "rank = ranks[n]"
   ]
  },
  {
   "cell_type": "code",
   "execution_count": null,
   "id": "f50dbf03-89ab-419e-985c-16f6e013bb39",
   "metadata": {},
   "outputs": [],
   "source": [
    "# set the location of the already extracted training data\n",
    "sector_short = 'Ross'\n",
    "path_in = '/glade/p/cgd/ppc/duvivier/cesm2_antarctic_polynya/SOM_analysis/training/'+sector_short+'_v5/'\n",
    "path_out = path_in+'som_finalists/'"
   ]
  },
  {
   "cell_type": "code",
   "execution_count": null,
   "id": "8b414042-e073-47d5-b116-31ff9d3238c7",
   "metadata": {},
   "outputs": [],
   "source": [
    "# construct the input name from this, set as output for figure names\n",
    "fin = 'som_'+sector_short+'_'+var_in+'_'+str(som_row)+'x'+str(som_col)+'_rank_'+str(rank)+'_sig'+str(sig)+'_lr'+str(lr)+'_iter'+str(n_iter)\n",
    "print(fin)"
   ]
  },
  {
   "cell_type": "markdown",
   "id": "0d25ccbe-5dce-46f9-8e1c-47e001247621",
   "metadata": {},
   "source": [
    "### Load training data to interpret SOM"
   ]
  },
  {
   "cell_type": "code",
   "execution_count": null,
   "id": "fb75c68f-76ed-4aac-83f5-fbede7277948",
   "metadata": {},
   "outputs": [],
   "source": [
    "def normalize_data(data):\n",
    "    \"\"\"\n",
    "    Function for normalizing data prior to training using z-score\n",
    "    \"\"\"\n",
    "    return (data - np.nanmean(data)) / np.nanstd(data)"
   ]
  },
  {
   "cell_type": "code",
   "execution_count": null,
   "id": "6e25c765-556e-4f0d-8896-8f18c893930a",
   "metadata": {},
   "outputs": [],
   "source": [
    "# open file saved in earlier notebook (soms_antarctica-gettingdata.ipynb)\n",
    "subset = xr.open_dataset(path_in+'training_data_region_'+sector_short+'_'+var_in+'.nc')\n",
    "\n",
    "# assign to numpy array object\n",
    "subsetarray = subset['train_data'].values\n",
    "\n",
    "# set data\n",
    "data = normalize_data(subsetarray)\n",
    "\n",
    "# set data input length\n",
    "input_length = subsetarray.shape[1]    # using preprocessed data array; Number of the elements of the vectors in input.\n"
   ]
  },
  {
   "cell_type": "markdown",
   "id": "15729faa-b9fd-435b-8364-4c2417793633",
   "metadata": {},
   "source": [
    "### Load Pickle with winning combos"
   ]
  },
  {
   "cell_type": "code",
   "execution_count": null,
   "id": "e9938e27-52e6-4ec8-bbd3-aa4a64588d88",
   "metadata": {},
   "outputs": [],
   "source": [
    "# open pickle\n",
    "with open(path_in+'/pickles/'+fin+'.p', 'rb') as infile:\n",
    "    som = pickle.load(infile)"
   ]
  },
  {
   "cell_type": "code",
   "execution_count": null,
   "id": "7810cdea-e1c6-4f7b-a493-a6a925bd8bef",
   "metadata": {},
   "outputs": [],
   "source": [
    "# double check qerror\n",
    "qerr = som.quantization_error(data)\n",
    "print('quantization error: '+str(qerr))"
   ]
  },
  {
   "cell_type": "code",
   "execution_count": null,
   "id": "8b41e164-6245-47ba-aaf7-d309c1d0bdd4",
   "metadata": {},
   "outputs": [],
   "source": [
    "print(path_out)"
   ]
  },
  {
   "cell_type": "markdown",
   "id": "90bf1d8e-18f7-46b0-8488-ada98c644064",
   "metadata": {},
   "source": [
    "## Plot Sammon map to check"
   ]
  },
  {
   "cell_type": "code",
   "execution_count": null,
   "id": "e911d9f2-9203-4e20-9b75-634291d298ac",
   "metadata": {},
   "outputs": [],
   "source": [
    "# Calculate sammon coordinates (y) for map and \"map stress\" (E)\n",
    "[y,E] = sammon.sammon(som.get_weights().reshape(som_col*som_row, input_length),2,display=1)\n",
    "\n",
    "# Plot Sammon map nodes\n",
    "fig = plt.figure(figsize=(10,8))\n",
    "plt.scatter(y[:,0], y[:,1], s=20, c='black', marker='o')\n",
    "\n",
    "# Add lines between nodes\n",
    "tmp = np.reshape(y,(som_col,som_row,2))\n",
    "len_x, len_y, len_z = tmp.shape\n",
    "    \n",
    "# add vertical lines\n",
    "for i in range(len_x-1):\n",
    "    for j in range(len_y):\n",
    "        plt.plot(tmp[i:i+2,j,0],tmp[i:i+2,j,1],c='black')\n",
    "    \n",
    "# add horizontal lines\n",
    "for i in range(len_x):\n",
    "    for j in range(len_y-1):\n",
    "        plt.plot(tmp[i,j:j+2,0],tmp[i,j:j+2,1],c='black')  \n",
    "    \n",
    "plt.xticks([])\n",
    "plt.yticks([])\n",
    "plt.title(r\"sammon map\" \"\\n\" r\"map stress = \"+str(E), fontsize=12)\n",
    "    \n",
    "# save figure\n",
    "fout = path_out+fin+'_sammon.png'\n",
    "plt.savefig(fout, bbox_inches='tight', dpi=200)\n"
   ]
  },
  {
   "cell_type": "markdown",
   "id": "975c87d1-8ad2-4aff-8ca7-345838e23c63",
   "metadata": {},
   "source": [
    "## Plot frequencies across lattice"
   ]
  },
  {
   "cell_type": "code",
   "execution_count": null,
   "id": "ae2fb0c6-e2c8-4e4b-8ad7-2ce631e8fd79",
   "metadata": {},
   "outputs": [],
   "source": [
    "# set frequencies\n",
    "frequencies = 100.*((som.activation_response(data))/sum(sum(som.activation_response(data))))\n",
    "#verify the total frequency is 100%\n",
    "total = sum(sum(frequencies))\n",
    "\n",
    "# Plot frequencies across SOM lattice\n",
    "fig = plt.figure(figsize=(10,8))\n",
    "ax = plt.subplot(111)\n",
    "im = ax.imshow(frequencies, cmap='Blues')   \n",
    "    \n",
    "# Loop over data dimensions and create text annotations in each cell\n",
    "len_x, len_y = frequencies.shape\n",
    "for i in range(len_x):\n",
    "    for j in range(len_y):\n",
    "        text = ax.text(j, i, str(round(frequencies[i, j],2))+'%', fontsize=15,\n",
    "                       ha=\"center\", va=\"center\", color=\"k\")\n",
    "\n",
    "# Make cosmetic changes\n",
    "cbar = plt.colorbar(im)\n",
    "plt.title(r\"data frequency (2d histogram) across SOM lattice\" \"\\n\" r\"total frequency = \"+str(total)+\"%\" \"\\n\" r\"qerror = \"+str(qerr), fontsize=12)\n",
    "plt.xticks(np.arange(0,som_row, 1))\n",
    "plt.yticks(np.arange(0,som_col, 1))\n",
    "    \n",
    "# save figure\n",
    "fout = path_out+fin+'_freq.png'\n",
    "plt.savefig(fout, bbox_inches='tight', dpi=200)\n"
   ]
  },
  {
   "cell_type": "markdown",
   "id": "92a534e5-8bba-493a-8865-cc8e0b122ea7",
   "metadata": {},
   "source": [
    "## Plot composite maps\n",
    "Do both ice thickness and concentration to check them"
   ]
  },
  {
   "cell_type": "code",
   "execution_count": null,
   "id": "0beed23d-4000-4b9b-a085-802cb2acbab9",
   "metadata": {},
   "outputs": [],
   "source": [
    "# set region of interest - for plotting\n",
    "titles     = ['Ross Sea', 'Amundsen Bellingshausen Sea', 'Weddell Sea', 'Pacific Ocean', 'Indian Ocean']\n",
    "shorts     = ['Ross', 'AMB', 'Wed', 'Pac', 'Ind']\n",
    "masks      = ['Ross_mask', 'BAm_mask', 'Wed_mask', 'Pac_mask', 'Ind_mask']\n",
    "lat_maxes  = [-72, -65, -65, -60, -60] \n",
    "lat_mins   = [-85, -85, -85, -80, -80]\n",
    "lon_maxes  = [200, 300, 300, 90, 160] \n",
    "lon_mins   = [160, 220, 20, 20, 90]\n",
    "lon_avgs   = [190, 260, 340, 55, 125]"
   ]
  },
  {
   "cell_type": "code",
   "execution_count": null,
   "id": "e3059fc9-712e-4821-a2f7-7813b3ec8433",
   "metadata": {},
   "outputs": [],
   "source": [
    "# Based on sector set at top of script, set plotting limits\n",
    "ind = shorts.index(sector_short)\n",
    "sector_title = titles[ind]\n",
    "mask_in = masks[ind]\n",
    "lat_max = lat_maxes[ind]\n",
    "lat_min = lat_mins[ind]\n",
    "lon_max = lon_maxes[ind]\n",
    "lon_min = lon_mins[ind]\n",
    "lon_avg = lon_avgs[ind]"
   ]
  },
  {
   "cell_type": "code",
   "execution_count": null,
   "id": "5932d38d-7167-4c59-a029-fa857d75da58",
   "metadata": {},
   "outputs": [],
   "source": [
    "# Load data for larger area than only training area\n",
    "# this data has been processed all the same 'time' coordinates as training data\n",
    "vars_composite_in = ['aice_d', 'hi_d']\n",
    "\n",
    "n = 1\n",
    "var_composite_in = vars_composite_in[n] "
   ]
  },
  {
   "cell_type": "code",
   "execution_count": null,
   "id": "f9a7c9ef-2c3f-4c1a-8d7a-f1f09830914b",
   "metadata": {},
   "outputs": [],
   "source": [
    "# set some labeling things\n",
    "if var_composite_in == 'aice_d':\n",
    "    title = 'ice concentration' \n",
    "    units = 'frac'\n",
    "    vmin_in = 0\n",
    "    vmax_in = 1\n",
    "    ticks_1 = [0,0.1,0.2,0.3,0.4,0.5,0.6,0.7,0.8,0.9,1.0] #np.arange(vmin_in,vmax_in,0.2)\n",
    "if var_composite_in == 'hi_d':\n",
    "    title = 'ice thickness' \n",
    "    units = 'm'\n",
    "    vmin_in = 0\n",
    "    vmax_in = 2\n",
    "    ticks_1 = [0,0.25,0.5,0.75,1.0,1.25,1.5,1.75] #np.arange(vmin_in,vmax_in,0.2)\n",
    "    "
   ]
  },
  {
   "cell_type": "code",
   "execution_count": null,
   "id": "2fbda515-783e-4453-80d0-7980392f3bdb",
   "metadata": {},
   "outputs": [],
   "source": [
    "# file name for training variable only here \n",
    "fin_training = 'antarctic_data_for_som_composites_'+var_composite_in\n",
    "# load data\n",
    "ds = xr.open_mfdataset(path_in+fin_training+'.nc')"
   ]
  },
  {
   "cell_type": "code",
   "execution_count": null,
   "id": "56444c4e-55fd-40b0-98d0-42a66004b3d9",
   "metadata": {},
   "outputs": [],
   "source": [
    "# explicitly load data so that it doesn't take forever later on during mean\n",
    "ds = ds.load()"
   ]
  },
  {
   "cell_type": "code",
   "execution_count": null,
   "id": "a442b190-98f7-4667-a68b-32b682e286ba",
   "metadata": {},
   "outputs": [],
   "source": [
    "# create an empty dictionary using the rows and columns of SOM\n",
    "keys = [i for i in product(range(som_row),range(som_col))]\n",
    "winmap = {key: [] for key in keys}"
   ]
  },
  {
   "cell_type": "code",
   "execution_count": null,
   "id": "5f621b9e-dbc7-4d9e-94f5-44cb09d8a639",
   "metadata": {},
   "outputs": [],
   "source": [
    "# set frequencies\n",
    "frequencies = 100.*((som.activation_response(data))/sum(sum(som.activation_response(data))))\n",
    "#verify the total frequency is 100%\n",
    "total = sum(sum(frequencies))\n",
    "\n",
    "# grab the indices for the data within the SOM lattice\n",
    "for i, x in enumerate(data):\n",
    "    winmap[som.winner(x)].append(i) \n",
    "\n",
    "# create list of the dictionary keys\n",
    "som_keys = list(winmap.keys())\n",
    "print(f\"Number of composite maps: {len(som_keys)}\")\n",
    "print(f\"The rows and columns of the SOM lattice to use to grab SOM indexes:\\n{[i for i in list(winmap.keys())]}\")"
   ]
  },
  {
   "cell_type": "code",
   "execution_count": null,
   "id": "c45e8556-e2b6-4cbf-809b-1c63464f0072",
   "metadata": {},
   "outputs": [],
   "source": [
    "# set some general plotting info\n",
    "cmap_choice = plt.cm.get_cmap('bone')  #'coolwarm'\n",
    "cmap_choice.set_bad(color='white')\n",
    "    \n",
    "# set some of the plot info\n",
    "fig, axs = plt.subplots(som_row, som_col, subplot_kw={'projection':ccrs.Stereographic(central_longitude=lon_avg)}, figsize=(14,12))\n",
    "    \n",
    "# loop through the different maps to get the indices of training data that map there\n",
    "for map_num in range(len(som_keys)):\n",
    "    # get indices of training data that mapped to this node\n",
    "    inds = winmap[som_keys[map_num]]\n",
    "    print(len(inds))\n",
    "    # grab the compositing data that corresponds to those training times\n",
    "    with dask.config.set(**{'array.slicing.split_large_chunks': False}):\n",
    "        ds_sub = ds.isel(training_times=inds)          \n",
    "    ds_sub = ds_sub.mean(dim=\"training_times\", skipna=True)\n",
    "        \n",
    "    # make plot for this node - note using .values converts from xarray to numpy array\n",
    "    cs = axs[som_keys[map_num][0],som_keys[map_num][1]].pcolor(ds.coords['TLON'].values, \n",
    "                                                               ds.coords['TLAT'].values, \n",
    "                                                               ds_sub[\"data\"].values, \n",
    "                                                               vmin=0, vmax=1, cmap=cmap_choice,\n",
    "                                                               transform=ccrs.PlateCarree())\n",
    "        \n",
    "    axs[som_keys[map_num][0],som_keys[map_num][1]].set_extent([lon_min,lon_max,lat_min,lat_max])\n",
    "    axs[som_keys[map_num][0],som_keys[map_num][1]].coastlines(resolution='110m', color='0.25', linewidth=0.5, zorder=10)\n",
    "    axs[som_keys[map_num][0],som_keys[map_num][1]].add_feature(cartopy.feature.LAND, zorder=10, edgecolor='k', facecolor='w')    \n",
    "    axs[som_keys[map_num][0],som_keys[map_num][1]].gridlines(linestyle='--', linewidth=0.5, zorder=11)\n",
    "    \n",
    "    # plot titles\n",
    "    axs[som_keys[map_num][0],som_keys[map_num][1]].set_title('Node Frequency (%):{:.2f}'.format(frequencies.flatten()[map_num]), fontsize=12)\n",
    "    \n",
    "# finalize figure \n",
    "plt.suptitle(sector_title+' SOM node composite '+title, fontsize=12, x=0.515, y=0.925)\n",
    "\n",
    "# colorbar stuff\n",
    "cbar_ax = fig.add_axes([0.25,0.1,0.5,0.01]) \n",
    "cbar = fig.colorbar(cs, cax=cbar_ax, ticks=ticks_1[:],\n",
    "                    orientation='horizontal', extend='both')\n",
    "cbar.ax.set_xticklabels(list(ticks_1))\n",
    "cbar.ax.tick_params(labelsize=12)\n",
    "cbar.set_label(units, fontsize=12)\n",
    "    \n",
    "# save figure\n",
    "fout = path_out+fin+'_'+var_composite_in+'_composite.png'\n",
    "plt.savefig(fout, bbox_inches='tight', dpi=200)\n"
   ]
  },
  {
   "cell_type": "code",
   "execution_count": null,
   "id": "d4ff3f2b-bf85-480c-87fa-5f4ff6a140c3",
   "metadata": {},
   "outputs": [],
   "source": []
  },
  {
   "cell_type": "code",
   "execution_count": null,
   "id": "7fb2a980-e7f7-4d04-8d59-69c9fe36beb0",
   "metadata": {},
   "outputs": [],
   "source": []
  }
 ],
 "metadata": {
  "kernelspec": {
   "display_name": "Python [conda env:miniconda3-antarctica_som_env]",
   "language": "python",
   "name": "conda-env-miniconda3-antarctica_som_env-py"
  },
  "language_info": {
   "codemirror_mode": {
    "name": "ipython",
    "version": 3
   },
   "file_extension": ".py",
   "mimetype": "text/x-python",
   "name": "python",
   "nbconvert_exporter": "python",
   "pygments_lexer": "ipython3",
   "version": "3.7.10"
  }
 },
 "nbformat": 4,
 "nbformat_minor": 5
}
